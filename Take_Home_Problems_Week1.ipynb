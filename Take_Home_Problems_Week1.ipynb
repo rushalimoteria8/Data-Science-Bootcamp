{
  "nbformat": 4,
  "nbformat_minor": 0,
  "metadata": {
    "colab": {
      "provenance": []
    },
    "kernelspec": {
      "name": "python3",
      "display_name": "Python 3"
    },
    "language_info": {
      "name": "python"
    }
  },
  "cells": [
    {
      "cell_type": "markdown",
      "source": [
        "# Take Home Assignment 1\n",
        "*Rushali Moteria*"
      ],
      "metadata": {
        "id": "NGEOBXrxGDk4"
      }
    },
    {
      "cell_type": "markdown",
      "source": [
        "1. Write a function  count_vowels(word) that takes a word as an argument and returns the number of vowels in the word"
      ],
      "metadata": {
        "id": "PdG-qMzXDdlu"
      }
    },
    {
      "cell_type": "code",
      "source": [
        "def count_vowels(word):\n",
        "    vowels = \"aAeEiIoOuU\"\n",
        "    cnt = 0\n",
        "    for alphabet in word:\n",
        "        if alphabet in vowels:\n",
        "            cnt += 1\n",
        "    return cnt\n",
        "\n",
        "word = \"secaucus\"\n",
        "print(count_vowels(word))"
      ],
      "metadata": {
        "colab": {
          "base_uri": "https://localhost:8080/"
        },
        "id": "LON778EpDgzv",
        "outputId": "24698fbc-5ee2-495a-dc04-828766016990"
      },
      "execution_count": null,
      "outputs": [
        {
          "output_type": "stream",
          "name": "stdout",
          "text": [
            "4\n"
          ]
        }
      ]
    },
    {
      "cell_type": "markdown",
      "source": [],
      "metadata": {
        "id": "XCf9f7szGBEU"
      }
    },
    {
      "cell_type": "markdown",
      "source": [
        "2. Iterate through the following list of animals and print each one in all caps.\n",
        "\n",
        "\n",
        "          animals=['tiger', 'elephant', 'monkey', 'zebra', 'panther']"
      ],
      "metadata": {
        "id": "eFGchx0kECS3"
      }
    },
    {
      "cell_type": "code",
      "source": [
        "animals=['tiger', 'elephant', 'monkey', 'zebra', 'panther']\n",
        "\n",
        "for animal in animals:\n",
        "\n",
        "  print(animal.upper())"
      ],
      "metadata": {
        "colab": {
          "base_uri": "https://localhost:8080/"
        },
        "id": "zS8D-1ubEUFs",
        "outputId": "e10a29d3-57cf-4b62-990c-21c9fc1299cb"
      },
      "execution_count": null,
      "outputs": [
        {
          "output_type": "stream",
          "name": "stdout",
          "text": [
            "TIGER\n",
            "ELEPHANT\n",
            "MONKEY\n",
            "ZEBRA\n",
            "PANTHER\n"
          ]
        }
      ]
    },
    {
      "cell_type": "markdown",
      "source": [
        "3. Write a program that iterates from 1 to 20, printing each number and whether it's odd or even."
      ],
      "metadata": {
        "id": "XbsGBApJEmd3"
      }
    },
    {
      "cell_type": "code",
      "source": [
        "for i in range(1,21):\n",
        "    if(i%2 == 0):\n",
        "      print(i, \"is even.\")\n",
        "    else:\n",
        "      print(i, \"is odd.\")"
      ],
      "metadata": {
        "colab": {
          "base_uri": "https://localhost:8080/"
        },
        "id": "NSVy0UjVEq-a",
        "outputId": "9d258020-2776-4fa5-e7c5-c82386c02e25"
      },
      "execution_count": null,
      "outputs": [
        {
          "output_type": "stream",
          "name": "stdout",
          "text": [
            "1 is odd.\n",
            "2 is even.\n",
            "3 is odd.\n",
            "4 is even.\n",
            "5 is odd.\n",
            "6 is even.\n",
            "7 is odd.\n",
            "8 is even.\n",
            "9 is odd.\n",
            "10 is even.\n",
            "11 is odd.\n",
            "12 is even.\n",
            "13 is odd.\n",
            "14 is even.\n",
            "15 is odd.\n",
            "16 is even.\n",
            "17 is odd.\n",
            "18 is even.\n",
            "19 is odd.\n",
            "20 is even.\n"
          ]
        }
      ]
    },
    {
      "cell_type": "markdown",
      "source": [
        "4. Write a function sum_of_integers(a, b) that takes two integers as input from the user and returns their sum."
      ],
      "metadata": {
        "id": "UX6CHBIxFdr1"
      }
    },
    {
      "cell_type": "code",
      "source": [
        "def sum_of_integers(a, b):\n",
        "  return a + b\n",
        "\n",
        "a = int(input(\"Enter the frist number: \"))\n",
        "b = int(input(\"Enter the second number: \"))\n",
        "print(\"Sum of\", a, \"and\", b,\"is\",sum_of_integers(a,b))"
      ],
      "metadata": {
        "colab": {
          "base_uri": "https://localhost:8080/"
        },
        "id": "FUafdNgiFeoa",
        "outputId": "83dc87ec-e6c1-4269-eb12-1ae2c073d30f"
      },
      "execution_count": null,
      "outputs": [
        {
          "output_type": "stream",
          "name": "stdout",
          "text": [
            "Enter the frist number: 4\n",
            "Enter the second number: 5\n",
            "Sum of 4 and 5 is 9\n"
          ]
        }
      ]
    }
  ]
}